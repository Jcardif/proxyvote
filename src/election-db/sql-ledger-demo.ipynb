{
    "metadata": {
        "kernelspec": {
            "name": "SQL",
            "display_name": "SQL",
            "language": "sql"
        },
        "language_info": {
            "name": "sql",
            "version": ""
        }
    },
    "nbformat_minor": 2,
    "nbformat": 4,
    "cells": [
        {
            "cell_type": "markdown",
            "source": [
                "**Azure SQL Database ledger**"
            ],
            "metadata": {
                "azdata_cell_guid": "9a5713b6-dced-4bd3-bc87-eff9537a5418"
            },
            "attachments": {}
        },
        {
            "cell_type": "code",
            "source": [
                "CREATE SCHEMA [SecuredElections]\r\n",
                "GO\r\n",
                "\r\n",
                "CREATE TABLE [SecuredElections].[RegisteredList]\r\n",
                "(\r\n",
                "    [RegistrationId] INT NOT NULL PRIMARY KEY CLUSTERED,\r\n",
                "    [FirstName] VARCHAR (50) NOT NULL,\r\n",
                "    [LastName] VARCHAR (50) NOT NULL,\r\n",
                "    [BirthDate] DATETIME NOT NULL,\r\n",
                "    [BirthPlace] VARCHAR (50) NOT NULL,\r\n",
                "    [RegistrationAddress] VARCHAR (MAX) NOT NULL,\r\n",
                "    [RegistrationZipCode] VARCHAR (10) NOT NULL,\r\n",
                "    [VoteOfficeId] VARCHAR (10) NOT NULL,\r\n",
                "    [ProxyFirstName] VARCHAR (50) NULL,\r\n",
                "    [ProxyLastName] VARCHAR (50) NULL,\r\n",
                "    [ProxyBirthDate] DATETIME NULL\r\n",
                ")\r\n",
                "WITH \r\n",
                "(\r\n",
                " SYSTEM_VERSIONING = ON,\r\n",
                " LEDGER = ON\r\n",
                ");\r\n",
                "GO"
            ],
            "metadata": {
                "azdata_cell_guid": "66e8a2a2-4674-4509-adaf-5141487f3b58",
                "language": "sql",
                "tags": []
            },
            "outputs": [
                {
                    "output_type": "display_data",
                    "data": {
                        "text/html": "Commands completed successfully."
                    },
                    "metadata": {}
                },
                {
                    "output_type": "display_data",
                    "data": {
                        "text/html": "Commands completed successfully."
                    },
                    "metadata": {}
                },
                {
                    "output_type": "display_data",
                    "data": {
                        "text/html": "Total execution time: 00:00:01.157"
                    },
                    "metadata": {}
                }
            ],
            "execution_count": 4
        },
        {
            "cell_type": "markdown",
            "source": [
                "Creating some records"
            ],
            "metadata": {
                "azdata_cell_guid": "c0b822c4-9248-4d25-889e-fad578b3ed99"
            },
            "attachments": {}
        },
        {
            "cell_type": "code",
            "source": [
                "-- Insertion de données\r\n",
                "INSERT INTO [SecuredElections].[RegisteredList]\r\n",
                "( \r\n",
                "    [RegistrationId],\r\n",
                "    [FirstName],\r\n",
                "    [LastName] ,\r\n",
                "    [BirthDate],\r\n",
                "    [BirthPlace],\r\n",
                "    [RegistrationAddress] ,\r\n",
                "    [RegistrationZipCode] ,\r\n",
                "    [VoteOfficeId]\r\n",
                ")\r\n",
                "VALUES\r\n",
                "( \r\n",
                "  1,'Christopher','Maneu','1985-10-21','Toulouse', '102 Avenue des Minimes', '31000', '214'\r\n",
                ")\r\n",
                "GO"
            ],
            "metadata": {
                "azdata_cell_guid": "9761faa9-50f7-48eb-ab16-4a20195dc62a",
                "language": "sql"
            },
            "outputs": [
                {
                    "output_type": "display_data",
                    "data": {
                        "text/html": "(1 row affected)"
                    },
                    "metadata": {}
                },
                {
                    "output_type": "display_data",
                    "data": {
                        "text/html": "Total execution time: 00:00:00.304"
                    },
                    "metadata": {}
                }
            ],
            "execution_count": 7
        },
        {
            "cell_type": "code",
            "source": [
                "SELECT * \r\n",
                "      ,[ledger_start_transaction_id]\r\n",
                "      ,[ledger_end_transaction_id]\r\n",
                "      ,[ledger_start_sequence_number]\r\n",
                "      ,[ledger_end_sequence_number]\r\n",
                "FROM [SecuredElections].[RegisteredList]"
            ],
            "metadata": {
                "language": "sql",
                "azdata_cell_guid": "5f369e16-2bfa-4665-983d-83d5b93726e2"
            },
            "outputs": [
                {
                    "output_type": "display_data",
                    "data": {
                        "text/html": "(1 row affected)"
                    },
                    "metadata": {}
                },
                {
                    "output_type": "display_data",
                    "data": {
                        "text/html": "Total execution time: 00:00:00.074"
                    },
                    "metadata": {}
                },
                {
                    "output_type": "execute_result",
                    "metadata": {},
                    "execution_count": 8,
                    "data": {
                        "application/vnd.dataresource+json": {
                            "schema": {
                                "fields": [
                                    {
                                        "name": "RegistrationId"
                                    },
                                    {
                                        "name": "FirstName"
                                    },
                                    {
                                        "name": "LastName"
                                    },
                                    {
                                        "name": "BirthDate"
                                    },
                                    {
                                        "name": "BirthPlace"
                                    },
                                    {
                                        "name": "RegistrationAddress"
                                    },
                                    {
                                        "name": "RegistrationZipCode"
                                    },
                                    {
                                        "name": "VoteOfficeId"
                                    },
                                    {
                                        "name": "ProxyFirstName"
                                    },
                                    {
                                        "name": "ProxyLastName"
                                    },
                                    {
                                        "name": "ProxyBirthDate"
                                    },
                                    {
                                        "name": "ledger_start_transaction_id"
                                    },
                                    {
                                        "name": "ledger_end_transaction_id"
                                    },
                                    {
                                        "name": "ledger_start_sequence_number"
                                    },
                                    {
                                        "name": "ledger_end_sequence_number"
                                    }
                                ]
                            },
                            "data": [
                                {
                                    "0": "1",
                                    "1": "Christopher",
                                    "2": "Maneu",
                                    "3": "1985-10-21 00:00:00.000",
                                    "4": "Toulouse",
                                    "5": "102 Avenue des Minimes",
                                    "6": "31000",
                                    "7": "214",
                                    "8": "NULL",
                                    "9": "NULL",
                                    "10": "NULL",
                                    "11": "9297",
                                    "12": "NULL",
                                    "13": "0",
                                    "14": "NULL"
                                }
                            ]
                        },
                        "text/html": [
                            "<table>",
                            "<tr><th>RegistrationId</th><th>FirstName</th><th>LastName</th><th>BirthDate</th><th>BirthPlace</th><th>RegistrationAddress</th><th>RegistrationZipCode</th><th>VoteOfficeId</th><th>ProxyFirstName</th><th>ProxyLastName</th><th>ProxyBirthDate</th><th>ledger_start_transaction_id</th><th>ledger_end_transaction_id</th><th>ledger_start_sequence_number</th><th>ledger_end_sequence_number</th></tr>",
                            "<tr><td>1</td><td>Christopher</td><td>Maneu</td><td>1985-10-21 00:00:00.000</td><td>Toulouse</td><td>102 Avenue des Minimes</td><td>31000</td><td>214</td><td>NULL</td><td>NULL</td><td>NULL</td><td>9297</td><td>NULL</td><td>0</td><td>NULL</td></tr>",
                            "</table>"
                        ]
                    }
                }
            ],
            "execution_count": 8
        },
        {
            "cell_type": "markdown",
            "source": [
                "Rogue mode"
            ],
            "metadata": {
                "azdata_cell_guid": "d9114e07-d806-468a-921d-187d3f077504"
            },
            "attachments": {}
        },
        {
            "cell_type": "code",
            "source": [
                "\r\n",
                "DELETE FROM [SecuredElections].[RegisteredList] WHERE RegistrationId = 1\r\n",
                "\r\n",
                "INSERT INTO [SecuredElections].[RegisteredList]\r\n",
                "( \r\n",
                "    [RegistrationId],\r\n",
                "    [FirstName],\r\n",
                "    [LastName] ,\r\n",
                "    [BirthDate],\r\n",
                "    [BirthPlace],\r\n",
                "    [RegistrationAddress] ,\r\n",
                "    [RegistrationZipCode] ,\r\n",
                "    [VoteOfficeId]\r\n",
                ")\r\n",
                "VALUES\r\n",
                "( \r\n",
                "  1,'Sébastien','Dupont','1954-04-14','Paris', '45 Rue de la Convention', '75015', '198'\r\n",
                ")\r\n",
                "GO\r\n",
                "\r\n",
                "SELECT * FROM [SecuredElections].[RegisteredList]"
            ],
            "metadata": {
                "azdata_cell_guid": "1551e29d-3a8a-4676-ab32-a1ce1a3623a8",
                "language": "sql"
            },
            "outputs": [
                {
                    "output_type": "display_data",
                    "data": {
                        "text/html": "(1 row affected)"
                    },
                    "metadata": {}
                },
                {
                    "output_type": "display_data",
                    "data": {
                        "text/html": "(1 row affected)"
                    },
                    "metadata": {}
                },
                {
                    "output_type": "display_data",
                    "data": {
                        "text/html": "(1 row affected)"
                    },
                    "metadata": {}
                },
                {
                    "output_type": "display_data",
                    "data": {
                        "text/html": "Total execution time: 00:00:00.160"
                    },
                    "metadata": {}
                },
                {
                    "output_type": "execute_result",
                    "metadata": {},
                    "execution_count": 9,
                    "data": {
                        "application/vnd.dataresource+json": {
                            "schema": {
                                "fields": [
                                    {
                                        "name": "RegistrationId"
                                    },
                                    {
                                        "name": "FirstName"
                                    },
                                    {
                                        "name": "LastName"
                                    },
                                    {
                                        "name": "BirthDate"
                                    },
                                    {
                                        "name": "BirthPlace"
                                    },
                                    {
                                        "name": "RegistrationAddress"
                                    },
                                    {
                                        "name": "RegistrationZipCode"
                                    },
                                    {
                                        "name": "VoteOfficeId"
                                    },
                                    {
                                        "name": "ProxyFirstName"
                                    },
                                    {
                                        "name": "ProxyLastName"
                                    },
                                    {
                                        "name": "ProxyBirthDate"
                                    }
                                ]
                            },
                            "data": [
                                {
                                    "0": "1",
                                    "1": "Sébastien",
                                    "2": "Dupont",
                                    "3": "1954-04-14 00:00:00.000",
                                    "4": "Paris",
                                    "5": "45 Rue de la Convention",
                                    "6": "75015",
                                    "7": "198",
                                    "8": "NULL",
                                    "9": "NULL",
                                    "10": "NULL"
                                }
                            ]
                        },
                        "text/html": [
                            "<table>",
                            "<tr><th>RegistrationId</th><th>FirstName</th><th>LastName</th><th>BirthDate</th><th>BirthPlace</th><th>RegistrationAddress</th><th>RegistrationZipCode</th><th>VoteOfficeId</th><th>ProxyFirstName</th><th>ProxyLastName</th><th>ProxyBirthDate</th></tr>",
                            "<tr><td>1</td><td>Sébastien</td><td>Dupont</td><td>1954-04-14 00:00:00.000</td><td>Paris</td><td>45 Rue de la Convention</td><td>75015</td><td>198</td><td>NULL</td><td>NULL</td><td>NULL</td></tr>",
                            "</table>"
                        ]
                    }
                }
            ],
            "execution_count": 9
        },
        {
            "cell_type": "markdown",
            "source": [
                "**CSI: Database**"
            ],
            "metadata": {
                "azdata_cell_guid": "d928754d-0355-4f6c-ab6f-f1802a94257e"
            },
            "attachments": {}
        },
        {
            "cell_type": "code",
            "source": [
                "SELECT * FROM [SecuredElections].RegisteredList_Ledger\r\n",
                "ORDER BY ledger_transaction_id\r\n",
                "GO"
            ],
            "metadata": {
                "azdata_cell_guid": "84425355-f238-4131-9386-4f8a21309963",
                "language": "sql",
                "tags": []
            },
            "outputs": [
                {
                    "output_type": "display_data",
                    "data": {
                        "text/html": "(3 rows affected)"
                    },
                    "metadata": {}
                },
                {
                    "output_type": "display_data",
                    "data": {
                        "text/html": "Total execution time: 00:00:00.103"
                    },
                    "metadata": {}
                },
                {
                    "output_type": "execute_result",
                    "metadata": {},
                    "execution_count": 10,
                    "data": {
                        "application/vnd.dataresource+json": {
                            "schema": {
                                "fields": [
                                    {
                                        "name": "RegistrationId"
                                    },
                                    {
                                        "name": "FirstName"
                                    },
                                    {
                                        "name": "LastName"
                                    },
                                    {
                                        "name": "BirthDate"
                                    },
                                    {
                                        "name": "BirthPlace"
                                    },
                                    {
                                        "name": "RegistrationAddress"
                                    },
                                    {
                                        "name": "RegistrationZipCode"
                                    },
                                    {
                                        "name": "VoteOfficeId"
                                    },
                                    {
                                        "name": "ProxyFirstName"
                                    },
                                    {
                                        "name": "ProxyLastName"
                                    },
                                    {
                                        "name": "ProxyBirthDate"
                                    },
                                    {
                                        "name": "ledger_transaction_id"
                                    },
                                    {
                                        "name": "ledger_sequence_number"
                                    },
                                    {
                                        "name": "ledger_operation_type"
                                    },
                                    {
                                        "name": "ledger_operation_type_desc"
                                    }
                                ]
                            },
                            "data": [
                                {
                                    "0": "1",
                                    "1": "Christopher",
                                    "2": "Maneu",
                                    "3": "1985-10-21 00:00:00.000",
                                    "4": "Toulouse",
                                    "5": "102 Avenue des Minimes",
                                    "6": "31000",
                                    "7": "214",
                                    "8": "NULL",
                                    "9": "NULL",
                                    "10": "NULL",
                                    "11": "9297",
                                    "12": "0",
                                    "13": "1",
                                    "14": "INSERT"
                                },
                                {
                                    "0": "1",
                                    "1": "Christopher",
                                    "2": "Maneu",
                                    "3": "1985-10-21 00:00:00.000",
                                    "4": "Toulouse",
                                    "5": "102 Avenue des Minimes",
                                    "6": "31000",
                                    "7": "214",
                                    "8": "NULL",
                                    "9": "NULL",
                                    "10": "NULL",
                                    "11": "9303",
                                    "12": "0",
                                    "13": "2",
                                    "14": "DELETE"
                                },
                                {
                                    "0": "1",
                                    "1": "Sébastien",
                                    "2": "Dupont",
                                    "3": "1954-04-14 00:00:00.000",
                                    "4": "Paris",
                                    "5": "45 Rue de la Convention",
                                    "6": "75015",
                                    "7": "198",
                                    "8": "NULL",
                                    "9": "NULL",
                                    "10": "NULL",
                                    "11": "9306",
                                    "12": "0",
                                    "13": "1",
                                    "14": "INSERT"
                                }
                            ]
                        },
                        "text/html": [
                            "<table>",
                            "<tr><th>RegistrationId</th><th>FirstName</th><th>LastName</th><th>BirthDate</th><th>BirthPlace</th><th>RegistrationAddress</th><th>RegistrationZipCode</th><th>VoteOfficeId</th><th>ProxyFirstName</th><th>ProxyLastName</th><th>ProxyBirthDate</th><th>ledger_transaction_id</th><th>ledger_sequence_number</th><th>ledger_operation_type</th><th>ledger_operation_type_desc</th></tr>",
                            "<tr><td>1</td><td>Christopher</td><td>Maneu</td><td>1985-10-21 00:00:00.000</td><td>Toulouse</td><td>102 Avenue des Minimes</td><td>31000</td><td>214</td><td>NULL</td><td>NULL</td><td>NULL</td><td>9297</td><td>0</td><td>1</td><td>INSERT</td></tr>",
                            "<tr><td>1</td><td>Christopher</td><td>Maneu</td><td>1985-10-21 00:00:00.000</td><td>Toulouse</td><td>102 Avenue des Minimes</td><td>31000</td><td>214</td><td>NULL</td><td>NULL</td><td>NULL</td><td>9303</td><td>0</td><td>2</td><td>DELETE</td></tr>",
                            "<tr><td>1</td><td>Sébastien</td><td>Dupont</td><td>1954-04-14 00:00:00.000</td><td>Paris</td><td>45 Rue de la Convention</td><td>75015</td><td>198</td><td>NULL</td><td>NULL</td><td>NULL</td><td>9306</td><td>0</td><td>1</td><td>INSERT</td></tr>",
                            "</table>"
                        ]
                    }
                }
            ],
            "execution_count": 10
        }
    ]
}